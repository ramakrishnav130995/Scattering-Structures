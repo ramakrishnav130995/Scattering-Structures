{
 "cells": [
  {
   "cell_type": "code",
   "execution_count": 4,
   "outputs": [],
   "source": [
    "import numpy as np\n",
    "import matplotlib.pyplot as plt\n",
    "from build_FDTD import build_FDTD\n",
    "from build_FDTD import build_crystal"
   ],
   "metadata": {
    "collapsed": false,
    "ExecuteTime": {
     "end_time": "2024-01-09T17:13:44.773307100Z",
     "start_time": "2024-01-09T17:13:44.767323800Z"
    }
   },
   "id": "305057c874fa1bcb"
  },
  {
   "cell_type": "markdown",
   "source": [
    "The goal is to create a photonic crystal for each individual mode exiting the multimodal fiber"
   ],
   "metadata": {
    "collapsed": false
   },
   "id": "3251daf9275b4cdf"
  },
  {
   "cell_type": "code",
   "execution_count": 5,
   "outputs": [],
   "source": [
    "fdtd = build_FDTD(lumerical_name= 'test', injection_angle=-11.5)"
   ],
   "metadata": {
    "collapsed": false,
    "ExecuteTime": {
     "end_time": "2024-01-09T17:13:57.155495500Z",
     "start_time": "2024-01-09T17:13:45.602051100Z"
    }
   },
   "id": "397c509c5868e0b3"
  },
  {
   "cell_type": "code",
   "execution_count": 6,
   "outputs": [],
   "source": [
    "fdtd.select(\"FDTD::ports::input_port\")\n",
    "fdtd.set(\"mode selection\", \"user select\")\n",
    "fdtd.set(\"selected mode numbers\", 1)"
   ],
   "metadata": {
    "collapsed": false,
    "ExecuteTime": {
     "end_time": "2024-01-09T17:14:05.101901500Z",
     "start_time": "2024-01-09T17:14:04.932775400Z"
    }
   },
   "id": "bccc47390a209f79"
  },
  {
   "cell_type": "code",
   "execution_count": 7,
   "outputs": [
    {
     "name": "stdout",
     "output_type": "stream",
     "text": [
      "-16.73151378953476\n",
      "pitch =  0.8804390484706491\n"
     ]
    }
   ],
   "source": [
    "# calculate grating pitch\n",
    "lambda0 = 1.55  # [um]\n",
    "ff = 0.6\n",
    "n_etch = 1.2 # TE0\n",
    "n_wg =  1.65433 # TE0\n",
    "n_eff = n_wg*ff + n_etch*(1-ff)\n",
    "n_clad = 1\n",
    "theta = -11.5\n",
    "# bc of snellius the angle in the air is different as in the fiber\n",
    "theta_air = np.arcsin(1.444*np.sin(np.deg2rad(theta)/1))\n",
    "theta_air = np.rad2deg(theta_air)\n",
    "print(theta_air)\n",
    "                      \n",
    "# get pitch\n",
    "pitch = lambda0/(n_eff - n_clad*np.sin(np.deg2rad(theta_air)))\n",
    "print(\"pitch = \", pitch)\n",
    "\n",
    "CIRCLE = {\n",
    "    \"radius\": ((1-ff)*pitch)/2,  # [um]\n",
    "    \"depth\": 0.33,  # [um]\n",
    "    \"matname\": \"etch\"\n",
    "}"
   ],
   "metadata": {
    "collapsed": false,
    "ExecuteTime": {
     "end_time": "2024-01-09T17:14:06.005481100Z",
     "start_time": "2024-01-09T17:14:05.992569900Z"
    }
   },
   "id": "a878df2d3c093041"
  },
  {
   "cell_type": "code",
   "execution_count": 8,
   "outputs": [],
   "source": [
    "crystal_args = {\n",
    "    \"dimension\": 70,\n",
    "    \n",
    "    \"crystal_constant\": pitch,\n",
    "    \"scatterer\": \"CIRCLE\",\n",
    "    \"scatterer_kwargs\": CIRCLE,\n",
    "    \"matname\": \"etch\",\n",
    "}\n",
    "build_crystal(fdtd, **crystal_args)"
   ],
   "metadata": {
    "collapsed": false,
    "ExecuteTime": {
     "end_time": "2024-01-09T17:14:38.841492Z",
     "start_time": "2024-01-09T17:14:07.482290500Z"
    }
   },
   "id": "aa713bf813bc9dc1"
  },
  {
   "cell_type": "markdown",
   "source": [],
   "metadata": {
    "collapsed": false
   },
   "id": "4a2cbe9f9b42cbdf"
  },
  {
   "cell_type": "code",
   "execution_count": 7,
   "outputs": [
    {
     "name": "stderr",
     "output_type": "stream",
     "text": [
      "C:\\Program Files\\Lumerical\\v232\\api\\python\\lumapi.py:895: SyntaxWarning: invalid escape sequence '\\s'\n",
      "  message = re.sub('^(Error:)\\s(prompt line)\\s[0-9]+:', '', str(rvals[2])).strip()\n"
     ]
    },
    {
     "ename": "KeyboardInterrupt",
     "evalue": "",
     "output_type": "error",
     "traceback": [
      "\u001B[1;31m---------------------------------------------------------------------------\u001B[0m",
      "\u001B[1;31mKeyboardInterrupt\u001B[0m                         Traceback (most recent call last)",
      "Cell \u001B[1;32mIn[7], line 21\u001B[0m\n\u001B[0;32m     13\u001B[0m crystal_args \u001B[38;5;241m=\u001B[39m {\n\u001B[0;32m     14\u001B[0m     \u001B[38;5;124m\"\u001B[39m\u001B[38;5;124mdimension\u001B[39m\u001B[38;5;124m\"\u001B[39m: \u001B[38;5;241m70\u001B[39m,\n\u001B[0;32m     15\u001B[0m     \u001B[38;5;124m\"\u001B[39m\u001B[38;5;124mcrystal_constant\u001B[39m\u001B[38;5;124m\"\u001B[39m: p,\n\u001B[1;32m   (...)\u001B[0m\n\u001B[0;32m     18\u001B[0m     \u001B[38;5;124m\"\u001B[39m\u001B[38;5;124mmatname\u001B[39m\u001B[38;5;124m\"\u001B[39m: \u001B[38;5;124m\"\u001B[39m\u001B[38;5;124metch\u001B[39m\u001B[38;5;124m\"\u001B[39m,\n\u001B[0;32m     19\u001B[0m }\n\u001B[0;32m     20\u001B[0m \u001B[38;5;66;03m# build into fdtd\u001B[39;00m\n\u001B[1;32m---> 21\u001B[0m \u001B[43mbuild_crystal\u001B[49m\u001B[43m(\u001B[49m\u001B[43mfdtd\u001B[49m\u001B[43m,\u001B[49m\u001B[43m \u001B[49m\u001B[38;5;241;43m*\u001B[39;49m\u001B[38;5;241;43m*\u001B[39;49m\u001B[43mcrystal_args\u001B[49m\u001B[43m)\u001B[49m\n\u001B[0;32m     22\u001B[0m \u001B[38;5;66;03m# run simulation\u001B[39;00m\n\u001B[0;32m     23\u001B[0m fdtd\u001B[38;5;241m.\u001B[39mrun()\n",
      "File \u001B[1;32m~\\PycharmProjects\\Scattering-Structures\\FDTD\\builds\\multimode_fiber_photonic_crystal_2D\\build_FDTD.py:366\u001B[0m, in \u001B[0;36mbuild_crystal\u001B[1;34m(fdtd, **kwargs)\u001B[0m\n\u001B[0;32m    364\u001B[0m fdtd\u001B[38;5;241m.\u001B[39mset(\u001B[38;5;124m\"\u001B[39m\u001B[38;5;124moverride mesh order from material database\u001B[39m\u001B[38;5;124m\"\u001B[39m, \u001B[38;5;241m1\u001B[39m)\n\u001B[0;32m    365\u001B[0m fdtd\u001B[38;5;241m.\u001B[39mset(\u001B[38;5;124m\"\u001B[39m\u001B[38;5;124mmesh order\u001B[39m\u001B[38;5;124m\"\u001B[39m, \u001B[38;5;241m1\u001B[39m)\n\u001B[1;32m--> 366\u001B[0m \u001B[43mfdtd\u001B[49m\u001B[38;5;241;43m.\u001B[39;49m\u001B[43maddtogroup\u001B[49m\u001B[43m(\u001B[49m\u001B[38;5;124;43m\"\u001B[39;49m\u001B[38;5;124;43mCRYSTAL\u001B[39;49m\u001B[38;5;124;43m\"\u001B[39;49m\u001B[43m)\u001B[49m\n",
      "File \u001B[1;32mC:\\Program Files\\Lumerical\\v232\\api\\python\\lumapi.py:1257\u001B[0m, in \u001B[0;36mLumerical.__init__.<locals>.<lambda>\u001B[1;34m(self, *args)\u001B[0m\n\u001B[0;32m   1254\u001B[0m     method \u001B[38;5;241m=\u001B[39m (\u001B[38;5;28;01mlambda\u001B[39;00m x: \u001B[38;5;28;01mlambda\u001B[39;00m \u001B[38;5;28mself\u001B[39m, \u001B[38;5;241m*\u001B[39margs, \u001B[38;5;241m*\u001B[39m\u001B[38;5;241m*\u001B[39mkwargs:\n\u001B[0;32m   1255\u001B[0m     appCallWithConstructor(\u001B[38;5;28mself\u001B[39m, x, args, \u001B[38;5;241m*\u001B[39m\u001B[38;5;241m*\u001B[39mkwargs))(name)\n\u001B[0;32m   1256\u001B[0m \u001B[38;5;28;01melse\u001B[39;00m:\n\u001B[1;32m-> 1257\u001B[0m     method \u001B[38;5;241m=\u001B[39m (\u001B[38;5;28;01mlambda\u001B[39;00m x: \u001B[38;5;28;01mlambda\u001B[39;00m \u001B[38;5;28mself\u001B[39m, \u001B[38;5;241m*\u001B[39margs: \u001B[43mappCall\u001B[49m\u001B[43m(\u001B[49m\u001B[38;5;28;43mself\u001B[39;49m\u001B[43m,\u001B[49m\u001B[43m \u001B[49m\u001B[43mx\u001B[49m\u001B[43m,\u001B[49m\u001B[43m \u001B[49m\u001B[43margs\u001B[49m\u001B[43m)\u001B[49m)(name)\n\u001B[0;32m   1258\u001B[0m method\u001B[38;5;241m.\u001B[39m\u001B[38;5;18m__name__\u001B[39m \u001B[38;5;241m=\u001B[39m \u001B[38;5;28mstr\u001B[39m(name)\n\u001B[0;32m   1259\u001B[0m \u001B[38;5;28;01mtry\u001B[39;00m:\n",
      "File \u001B[1;32mC:\\Program Files\\Lumerical\\v232\\api\\python\\lumapi.py:888\u001B[0m, in \u001B[0;36mappCall\u001B[1;34m(self, name, *args)\u001B[0m\n\u001B[0;32m    885\u001B[0m code \u001B[38;5;241m+\u001B[39m\u001B[38;5;241m=\u001B[39m \u001B[38;5;124m'\u001B[39m\u001B[38;5;124m}catch(\u001B[39m\u001B[38;5;132;01m%s\u001B[39;00m\u001B[38;5;132;01m{3}\u001B[39;00m\u001B[38;5;124m);\u001B[39m\u001B[38;5;124m'\u001B[39m \u001B[38;5;241m%\u001B[39m vout\n\u001B[0;32m    887\u001B[0m \u001B[38;5;28;01mtry\u001B[39;00m:\n\u001B[1;32m--> 888\u001B[0m     \u001B[43m_evalScriptInternal\u001B[49m\u001B[43m(\u001B[49m\u001B[38;5;28;43mself\u001B[39;49m\u001B[38;5;241;43m.\u001B[39;49m\u001B[43mhandle\u001B[49m\u001B[43m,\u001B[49m\u001B[43m \u001B[49m\u001B[43mcode\u001B[49m\u001B[43m)\u001B[49m\n\u001B[0;32m    889\u001B[0m \u001B[38;5;28;01mexcept\u001B[39;00m LumApiError:\n\u001B[0;32m    890\u001B[0m     \u001B[38;5;28;01mpass\u001B[39;00m\n",
      "File \u001B[1;32mC:\\Program Files\\Lumerical\\v232\\api\\python\\lumapi.py:286\u001B[0m, in \u001B[0;36m_evalScriptInternal\u001B[1;34m(handle, code)\u001B[0m\n\u001B[0;32m    285\u001B[0m \u001B[38;5;28;01mdef\u001B[39;00m \u001B[38;5;21m_evalScriptInternal\u001B[39m(handle, code):\n\u001B[1;32m--> 286\u001B[0m     ec \u001B[38;5;241m=\u001B[39m \u001B[43mhandle\u001B[49m\u001B[38;5;241;43m.\u001B[39;49m\u001B[43miapi\u001B[49m\u001B[38;5;241;43m.\u001B[39;49m\u001B[43mappEvalScript\u001B[49m\u001B[43m(\u001B[49m\u001B[43mhandle\u001B[49m\u001B[38;5;241;43m.\u001B[39;49m\u001B[43mhandle\u001B[49m\u001B[43m,\u001B[49m\u001B[43m \u001B[49m\u001B[43mcode\u001B[49m\u001B[38;5;241;43m.\u001B[39;49m\u001B[43mencode\u001B[49m\u001B[43m(\u001B[49m\u001B[43m)\u001B[49m\u001B[43m)\u001B[49m\n\u001B[0;32m    287\u001B[0m     \u001B[38;5;28;01mif\u001B[39;00m ec \u001B[38;5;241m<\u001B[39m \u001B[38;5;241m0\u001B[39m:\n\u001B[0;32m    288\u001B[0m         \u001B[38;5;28;01mraise\u001B[39;00m LumApiError(\u001B[38;5;124m\"\u001B[39m\u001B[38;5;124mFailed to evaluate code\u001B[39m\u001B[38;5;124m\"\u001B[39m)\n",
      "\u001B[1;31mKeyboardInterrupt\u001B[0m: "
     ]
    }
   ],
   "source": [
    "pitch = np.linspace(0.82, 0.95, num=14, endpoint=True)\n",
    "transmissions = []\n",
    "# now do a sweep over the period for the fundamental mode\n",
    "for p in pitch:\n",
    "    # switch to layout mode\n",
    "    fdtd.switchtolayout()\n",
    "    #build crystal\n",
    "    CIRCLE = {\n",
    "        \"radius\": ((1-ff)*p)/2,  # [um]\n",
    "        \"depth\": 0.33,  # [um]\n",
    "        \"matname\": \"etch\"\n",
    "    }\n",
    "    crystal_args = {\n",
    "        \"dimension\": 70,\n",
    "        \"crystal_constant\": p,\n",
    "        \"scatterer\": \"CIRCLE\",\n",
    "        \"scatterer_kwargs\": CIRCLE,\n",
    "        \"matname\": \"etch\",\n",
    "    }\n",
    "    # build into fdtd\n",
    "    build_crystal(fdtd, **crystal_args)\n",
    "    # run simulation\n",
    "    fdtd.run()\n",
    "    # get transmission\n",
    "    t = (max(fdtd.transmission(\"monitor_1\")) + \n",
    "                    max(fdtd.transmission(\"monitor_2\")))\n",
    "    transmissions.append(t)"
   ],
   "metadata": {
    "collapsed": false,
    "ExecuteTime": {
     "end_time": "2023-12-06T22:04:53.122210500Z",
     "start_time": "2023-12-06T22:03:45.472984900Z"
    }
   },
   "id": "584a03baaaa1c2b8"
  },
  {
   "cell_type": "code",
   "execution_count": 34,
   "outputs": [
    {
     "data": {
      "text/plain": "<Figure size 640x480 with 1 Axes>",
      "image/png": "[encoded data removed]"
     },
     "metadata": {},
     "output_type": "display_data"
    }
   ],
   "source": [
    "# convert transmission to dB loss\n",
    "transmissions_dB = 10*np.log10(transmissions)\n",
    "plt.plot(pitch, transmissions_dB, \n",
    "         label = r\"$\\lambda = 1550$nm\" + '\\n' + r\"$ff=0.6$\" + '\\n' + r'$\\theta = -11.5\\degree$')\n",
    "plt.xlabel(\"pitch [um]\")\n",
    "plt.ylabel(\"Coupling loss in dB\")\n",
    "plt.grid()\n",
    "plt.legend(loc=\"upper right\")\n",
    "plt.show()"
   ],
   "metadata": {
    "collapsed": false,
    "ExecuteTime": {
     "end_time": "2023-12-06T18:23:24.235514600Z",
     "start_time": "2023-12-06T18:23:24.056130400Z"
    }
   },
   "id": "ca65af7e38de7498"
  },
  {
   "cell_type": "code",
   "execution_count": 22,
   "outputs": [],
   "source": [
    "fdtd.switchtolayout()\n",
    "fdtd.select(\"FDTD::ports::input_port\")\n",
    "fdtd.set(\"mode selection\", \"user select\")\n",
    "fdtd.set(\"selected mode numbers\", 1)"
   ],
   "metadata": {
    "collapsed": false,
    "ExecuteTime": {
     "end_time": "2023-12-06T16:46:37.882281300Z",
     "start_time": "2023-12-06T16:46:37.653411800Z"
    }
   },
   "id": "c7acbd9ebb8a0a08"
  },
  {
   "cell_type": "code",
   "execution_count": 6,
   "outputs": [
    {
     "name": "stderr",
     "output_type": "stream",
     "text": [
      "C:\\Users\\Luis\\AppData\\Local\\Temp\\ipykernel_1056\\217664792.py:39: DeprecationWarning: Conversion of an array with ndim > 0 to a scalar is deprecated, and will error in future. Ensure you extract a single element from your array before performing this operation. (Deprecated NumPy 1.25.)\n",
      "  transmissions_extensive[modes.index(m), np.where(pitch == p)[0][0]] = t\n"
     ]
    }
   ],
   "source": [
    "modes = [1, 3, 5, 7, 9, 11]\n",
    "pitch = np.linspace(0.82, 0.95, num=14, endpoint=True)\n",
    "filepath = \"data/sweep_transmission_data.txt\"  # Define your file path\n",
    "\n",
    "# Initialize transmission matrix\n",
    "transmissions_extensive = np.zeros((len(modes), len(pitch)))\n",
    "\n",
    "for m in modes:\n",
    "    # switch to layout mode\n",
    "    fdtd.switchtolayout()\n",
    "    # set mode\n",
    "    fdtd.select(\"FDTD::ports::input_port\")\n",
    "    fdtd.set(\"mode selection\", \"user select\")\n",
    "    fdtd.set(\"selected mode numbers\", m)\n",
    "    \n",
    "    for p in pitch:\n",
    "        # switch to layout mode\n",
    "        fdtd.switchtolayout()\n",
    "        # build crystal\n",
    "        CIRCLE = {\n",
    "            \"radius\": ((1-ff)*p)/2,  # [um]\n",
    "            \"depth\": 0.33,  # [um]\n",
    "            \"matname\": \"etch\"\n",
    "        }\n",
    "        crystal_args = {\n",
    "            \"dimension\": 70,\n",
    "            \"crystal_constant\": p,\n",
    "            \"scatterer\": \"CIRCLE\",\n",
    "            \"scatterer_kwargs\": CIRCLE,\n",
    "            \"matname\": \"etch\",\n",
    "        }\n",
    "        # build into fdtd\n",
    "        build_crystal(fdtd, **crystal_args)\n",
    "        # run simulation\n",
    "        fdtd.run()\n",
    "        # get transmission\n",
    "        t = (max(fdtd.transmission(\"monitor_1\")) + \n",
    "             max(fdtd.transmission(\"monitor_2\")))\n",
    "        transmissions_extensive[modes.index(m), np.where(pitch == p)[0][0]] = t\n",
    "        \n",
    "        # Save data to file after each iteration\n",
    "        with open(filepath, \"a\") as file:\n",
    "            file.write(f\"Mode: {m}, Pitch: {p}, Transmission: {t}\\n\")\n",
    "        \n"
   ],
   "metadata": {
    "collapsed": false,
    "ExecuteTime": {
     "end_time": "2023-12-07T07:53:41.473663600Z",
     "start_time": "2023-12-06T22:38:57.729513500Z"
    }
   },
   "id": "3165b61bec9b8100"
  },
  {
   "cell_type": "code",
   "execution_count": null,
   "outputs": [],
   "source": [],
   "metadata": {
    "collapsed": false
   },
   "id": "6c9c29bb6c90e7"
  }
 ],
 "metadata": {
  "kernelspec": {
   "display_name": "Python 3",
   "language": "python",
   "name": "python3"
  },
  "language_info": {
   "codemirror_mode": {
    "name": "ipython",
    "version": 2
   },
   "file_extension": ".py",
   "mimetype": "text/x-python",
   "name": "python",
   "nbconvert_exporter": "python",
   "pygments_lexer": "ipython2",
   "version": "2.7.6"
  }
 },
 "nbformat": 4,
 "nbformat_minor": 5
}
