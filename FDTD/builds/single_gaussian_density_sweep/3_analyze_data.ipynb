{
 "cells": [
  {
   "cell_type": "code",
   "execution_count": 1,
   "id": "initial_id",
   "metadata": {
    "collapsed": true,
    "ExecuteTime": {
     "end_time": "2023-11-14T11:58:41.112384500Z",
     "start_time": "2023-11-14T11:58:02.793406600Z"
    }
   },
   "outputs": [
    {
     "name": "stderr",
     "output_type": "stream",
     "text": [
      "C:\\Program Files\\Lumerical\\v232\\api\\python\\lumapi.py:882: SyntaxWarning: invalid escape sequence '\\s'\n",
      "  message = re.sub('^(Error:)\\s(prompt line)\\s[0-9]+:', '', str(rvals[2])).strip()\n"
     ]
    }
   ],
   "source": [
    "import importlib.util\n",
    "import os\n",
    "\n",
    "# Add the DLL directory\n",
    "os.add_dll_directory(\"C:\\\\Program Files\\\\Lumerical\\\\v232\\\\api\\\\python\")\n",
    "\n",
    "# Define the module name and file path\n",
    "module_name = \"lumapi\"\n",
    "# file_path = \"C:\\\\Program Files\\\\Lumerical\\\\v232\\\\api\\\\python\\\\lumapi.py\"\n",
    "file_path = \"C:\\\\Program Files\\\\Lumerical\\\\v232\\\\api\\\\python\\\\lumapi.py\"\n",
    "\n",
    "def load_module_from_file(module_name, file_path):\n",
    "    spec = importlib.util.spec_from_file_location(module_name, file_path)\n",
    "    module = importlib.util.module_from_spec(spec)\n",
    "    spec.loader.exec_module(module)\n",
    "    return module\n",
    "\n",
    "# Load the module\n",
    "lumapi = load_module_from_file(module_name, file_path)\n",
    "fdtd = lumapi.FDTD()"
   ]
  },
  {
   "cell_type": "markdown",
   "source": [
    "Let's do a first test where I open an existing FDTD which has been run and try to export some data from a fixed monitor."
   ],
   "metadata": {
    "collapsed": false
   },
   "id": "bce7b1ea9fefeaec"
  },
  {
   "cell_type": "code",
   "execution_count": 2,
   "outputs": [],
   "source": [
    "#open the lumerical file lumerical_results\\\\single_gaussian_ring-density=0,1.fsp\n",
    "fdtd.load(\"lumerical_results\\\\single_gaussian_ring-density=0,1.fsp\")"
   ],
   "metadata": {
    "collapsed": false,
    "ExecuteTime": {
     "end_time": "2023-11-14T11:59:14.457248700Z",
     "start_time": "2023-11-14T11:58:50.219753300Z"
    }
   },
   "id": "456da70f05047d5"
  },
  {
   "cell_type": "code",
   "execution_count": 9,
   "outputs": [
    {
     "ename": "LumApiError",
     "evalue": "\"Can not find result 'T' in the result provider '2D X-normal'\"",
     "output_type": "error",
     "traceback": [
      "\u001B[1;31m---------------------------------------------------------------------------\u001B[0m",
      "\u001B[1;31mLumApiError\u001B[0m                               Traceback (most recent call last)",
      "Cell \u001B[1;32mIn[9], line 1\u001B[0m\n\u001B[1;32m----> 1\u001B[0m T \u001B[38;5;241m=\u001B[39m \u001B[43mfdtd\u001B[49m\u001B[38;5;241;43m.\u001B[39;49m\u001B[43mgetresult\u001B[49m\u001B[43m(\u001B[49m\u001B[38;5;124;43m\"\u001B[39;49m\u001B[38;5;124;43m2D X-normal\u001B[39;49m\u001B[38;5;124;43m\"\u001B[39;49m\u001B[43m,\u001B[49m\u001B[43m \u001B[49m\u001B[38;5;124;43m\"\u001B[39;49m\u001B[38;5;124;43mT\u001B[39;49m\u001B[38;5;124;43m\"\u001B[39;49m\u001B[43m)\u001B[49m\n",
      "File \u001B[1;32mC:\\Program Files\\Lumerical\\v232\\api\\python\\lumapi.py:1244\u001B[0m, in \u001B[0;36mLumerical.__init__.<locals>.<lambda>\u001B[1;34m(self, *args)\u001B[0m\n\u001B[0;32m   1241\u001B[0m     method \u001B[38;5;241m=\u001B[39m (\u001B[38;5;28;01mlambda\u001B[39;00m x: \u001B[38;5;28;01mlambda\u001B[39;00m \u001B[38;5;28mself\u001B[39m, \u001B[38;5;241m*\u001B[39margs, \u001B[38;5;241m*\u001B[39m\u001B[38;5;241m*\u001B[39mkwargs:\n\u001B[0;32m   1242\u001B[0m     appCallWithConstructor(\u001B[38;5;28mself\u001B[39m, x, args, \u001B[38;5;241m*\u001B[39m\u001B[38;5;241m*\u001B[39mkwargs))(name)\n\u001B[0;32m   1243\u001B[0m \u001B[38;5;28;01melse\u001B[39;00m:\n\u001B[1;32m-> 1244\u001B[0m     method \u001B[38;5;241m=\u001B[39m (\u001B[38;5;28;01mlambda\u001B[39;00m x: \u001B[38;5;28;01mlambda\u001B[39;00m \u001B[38;5;28mself\u001B[39m, \u001B[38;5;241m*\u001B[39margs: \u001B[43mappCall\u001B[49m\u001B[43m(\u001B[49m\u001B[38;5;28;43mself\u001B[39;49m\u001B[43m,\u001B[49m\u001B[43m \u001B[49m\u001B[43mx\u001B[49m\u001B[43m,\u001B[49m\u001B[43m \u001B[49m\u001B[43margs\u001B[49m\u001B[43m)\u001B[49m)(name)\n\u001B[0;32m   1245\u001B[0m method\u001B[38;5;241m.\u001B[39m\u001B[38;5;18m__name__\u001B[39m \u001B[38;5;241m=\u001B[39m \u001B[38;5;28mstr\u001B[39m(name)\n\u001B[0;32m   1246\u001B[0m \u001B[38;5;28;01mtry\u001B[39;00m:\n",
      "File \u001B[1;32mC:\\Program Files\\Lumerical\\v232\\api\\python\\lumapi.py:886\u001B[0m, in \u001B[0;36mappCall\u001B[1;34m(self, name, *args)\u001B[0m\n\u001B[0;32m    884\u001B[0m         argLumTypes \u001B[38;5;241m=\u001B[39m lumTypes(\u001B[38;5;28mlist\u001B[39m(args[\u001B[38;5;241m0\u001B[39m]))\n\u001B[0;32m    885\u001B[0m         message \u001B[38;5;241m+\u001B[39m\u001B[38;5;241m=\u001B[39m (\u001B[38;5;124m\"\u001B[39m\u001B[38;5;124m - \u001B[39m\u001B[38;5;124m\"\u001B[39m \u001B[38;5;241m+\u001B[39m name \u001B[38;5;241m+\u001B[39m \u001B[38;5;124m\"\u001B[39m\u001B[38;5;124m arguments were converted to (\u001B[39m\u001B[38;5;124m\"\u001B[39m \u001B[38;5;241m+\u001B[39m \u001B[38;5;124m\"\u001B[39m\u001B[38;5;124m, \u001B[39m\u001B[38;5;124m\"\u001B[39m\u001B[38;5;241m.\u001B[39mjoin(argLumTypes) \u001B[38;5;241m+\u001B[39m \u001B[38;5;124m\"\u001B[39m\u001B[38;5;124m)\u001B[39m\u001B[38;5;124m\"\u001B[39m)\n\u001B[1;32m--> 886\u001B[0m     \u001B[38;5;28;01mraise\u001B[39;00m LumApiError(message)\n\u001B[0;32m    887\u001B[0m \u001B[38;5;28;01mif\u001B[39;00m \u001B[38;5;28misinstance\u001B[39m(rvals[\u001B[38;5;241m0\u001B[39m], \u001B[38;5;28mstr\u001B[39m) \u001B[38;5;129;01mand\u001B[39;00m (rvals[\u001B[38;5;241m0\u001B[39m] \u001B[38;5;241m==\u001B[39m \u001B[38;5;124m\"\u001B[39m\u001B[38;5;124md6d8d1b2c083c251\u001B[39m\u001B[38;5;124m\"\u001B[39m):\n\u001B[0;32m    888\u001B[0m     rvals[\u001B[38;5;241m0\u001B[39m] \u001B[38;5;241m=\u001B[39m \u001B[38;5;28;01mNone\u001B[39;00m\n",
      "\u001B[1;31mLumApiError\u001B[0m: \"Can not find result 'T' in the result provider '2D X-normal'\""
     ]
    }
   ],
   "source": [
    "T = fdtd.getresult(\"2D X-normal\", \"T\")"
   ],
   "metadata": {
    "collapsed": false,
    "ExecuteTime": {
     "end_time": "2023-11-14T12:32:31.808940300Z",
     "start_time": "2023-11-14T12:32:31.513157200Z"
    }
   },
   "id": "76c442e5a9ef9ad7"
  },
  {
   "cell_type": "code",
   "execution_count": null,
   "outputs": [],
   "source": [],
   "metadata": {
    "collapsed": false
   },
   "id": "5fe55c6d3d34581a"
  }
 ],
 "metadata": {
  "kernelspec": {
   "display_name": "Python 3",
   "language": "python",
   "name": "python3"
  },
  "language_info": {
   "codemirror_mode": {
    "name": "ipython",
    "version": 2
   },
   "file_extension": ".py",
   "mimetype": "text/x-python",
   "name": "python",
   "nbconvert_exporter": "python",
   "pygments_lexer": "ipython2",
   "version": "2.7.6"
  }
 },
 "nbformat": 4,
 "nbformat_minor": 5
}
