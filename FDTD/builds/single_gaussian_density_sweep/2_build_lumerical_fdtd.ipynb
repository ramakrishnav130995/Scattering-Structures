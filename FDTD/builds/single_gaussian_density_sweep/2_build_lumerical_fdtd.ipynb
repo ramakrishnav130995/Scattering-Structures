{
 "cells": [
  {
   "cell_type": "code",
   "execution_count": 1,
   "id": "initial_id",
   "metadata": {
    "collapsed": true,
    "ExecuteTime": {
     "end_time": "2023-10-28T22:59:17.233353600Z",
     "start_time": "2023-10-28T22:59:16.570573200Z"
    }
   },
   "outputs": [
    {
     "name": "stderr",
     "output_type": "stream",
     "text": [
      "C:\\Program Files\\Lumerical\\v232\\api\\python\\lumapi.py:895: SyntaxWarning: invalid escape sequence '\\s'\n",
      "  message = re.sub('^(Error:)\\s(prompt line)\\s[0-9]+:', '', str(rvals[2])).strip()\n"
     ]
    }
   ],
   "source": [
    "import build_FDTD"
   ]
  },
  {
   "cell_type": "markdown",
   "source": [
    "Test build with a distribution with density 0.3/um^2"
   ],
   "metadata": {
    "collapsed": false
   },
   "id": "75c630905320d723"
  },
  {
   "cell_type": "code",
   "execution_count": 2,
   "outputs": [
    {
     "name": "stdout",
     "output_type": "stream",
     "text": [
      "Distribution loaded from devices_files/density_0,3.txt\n"
     ]
    }
   ],
   "source": [
    "build_FDTD.build_FDTD(distribution_file=\"devices_files/density_0,3.txt\", lumerical_name=\"lumerical_files/single_gaussian_ring-density=0,3.fsp\", injection_angle=-45)"
   ],
   "metadata": {
    "collapsed": false,
    "ExecuteTime": {
     "end_time": "2023-10-28T23:06:20.280382100Z",
     "start_time": "2023-10-28T22:59:20.054332600Z"
    }
   },
   "id": "5e4e7f632afc7318"
  },
  {
   "cell_type": "code",
   "execution_count": null,
   "outputs": [
    {
     "name": "stdout",
     "output_type": "stream",
     "text": [
      "Distribution loaded from devices_files/density_0,1.txt\n"
     ]
    }
   ],
   "source": [
    "build_FDTD.build_FDTD(distribution_file=\"devices_files/density_0,1.txt\", lumerical_name=\"lumerical_files/single_gaussian_ring-density=0,1.fsp\", injection_angle=-45)\n",
    "\n",
    "build_FDTD.build_FDTD(distribution_file=\"devices_files/density_0,2.txt\", lumerical_name=\"lumerical_files/single_gaussian_ring-density=0,2.fsp\", injection_angle=-45)\n",
    "\n",
    "build_FDTD.build_FDTD(distribution_file=\"devices_files/density_0,02.txt\", lumerical_name=\"lumerical_files/single_gaussian_ring-density=0,02.fsp\", injection_angle=-45)\n",
    "\n",
    "build_FDTD.build_FDTD(distribution_file=\"devices_files/density_0,04.txt\", lumerical_name=\"lumerical_files/single_gaussian_ring-density=0,04.fsp\", injection_angle=-45)\n",
    "\n",
    "build_FDTD.build_FDTD(distribution_file=\"devices_files/density_0,06.txt\", lumerical_name=\"lumerical_files/single_gaussian_ring-density=0,06.fsp\", injection_angle=-45)\n",
    "\n",
    "build_FDTD.build_FDTD(distribution_file=\"devices_files/density_0,08.txt\", lumerical_name=\"lumerical_files/single_gaussian_ring-density=0,08.fsp\", injection_angle=-45)"
   ],
   "metadata": {
    "collapsed": false,
    "is_executing": true,
    "ExecuteTime": {
     "start_time": "2023-10-28T23:23:49.277260300Z"
    }
   },
   "id": "8878fd149956402e"
  },
  {
   "cell_type": "code",
   "execution_count": null,
   "outputs": [],
   "source": [],
   "metadata": {
    "collapsed": false
   },
   "id": "1ff990a8176a6c1c"
  }
 ],
 "metadata": {
  "kernelspec": {
   "display_name": "Python 3",
   "language": "python",
   "name": "python3"
  },
  "language_info": {
   "codemirror_mode": {
    "name": "ipython",
    "version": 2
   },
   "file_extension": ".py",
   "mimetype": "text/x-python",
   "name": "python",
   "nbconvert_exporter": "python",
   "pygments_lexer": "ipython2",
   "version": "2.7.6"
  }
 },
 "nbformat": 4,
 "nbformat_minor": 5
}
