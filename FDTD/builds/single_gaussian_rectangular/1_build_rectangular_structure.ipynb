{
 "cells": [
  {
   "cell_type": "code",
   "execution_count": 1,
   "id": "initial_id",
   "metadata": {
    "collapsed": true,
    "ExecuteTime": {
     "end_time": "2023-11-17T14:08:49.610644400Z",
     "start_time": "2023-11-17T14:08:46.630540Z"
    }
   },
   "outputs": [],
   "source": [
    "# import the module build in a different folder\n",
    "from scattering_structure.scattering_structure import ScatteringStructure\n",
    "import numpy as np\n",
    "import importlib.util\n",
    "import os\n"
   ]
  },
  {
   "cell_type": "markdown",
   "source": [
    "Create a rectangular structure with a lattice constant satisfying the bragg condition"
   ],
   "metadata": {
    "collapsed": false
   },
   "id": "8fc60188f993ef2b"
  },
  {
   "cell_type": "code",
   "execution_count": 1,
   "outputs": [
    {
     "name": "stdout",
     "output_type": "stream",
     "text": [
      "7.75\n"
     ]
    },
    {
     "ename": "NameError",
     "evalue": "name 'ScatteringStructure' is not defined",
     "output_type": "error",
     "traceback": [
      "\u001B[1;31m---------------------------------------------------------------------------\u001B[0m",
      "\u001B[1;31mNameError\u001B[0m                                 Traceback (most recent call last)",
      "Cell \u001B[1;32mIn[1], line 7\u001B[0m\n\u001B[0;32m      3\u001B[0m d\u001B[38;5;241m*\u001B[39m\u001B[38;5;241m=\u001B[39m \u001B[38;5;241m10\u001B[39m\n\u001B[0;32m      5\u001B[0m \u001B[38;5;28mprint\u001B[39m(d)\n\u001B[1;32m----> 7\u001B[0m rect \u001B[38;5;241m=\u001B[39m \u001B[43mScatteringStructure\u001B[49m(geometry\u001B[38;5;241m=\u001B[39m{\u001B[38;5;124m'\u001B[39m\u001B[38;5;124mtype\u001B[39m\u001B[38;5;124m'\u001B[39m: \u001B[38;5;124m'\u001B[39m\u001B[38;5;124mbox\u001B[39m\u001B[38;5;124m'\u001B[39m, \u001B[38;5;124m'\u001B[39m\u001B[38;5;124mlx\u001B[39m\u001B[38;5;124m'\u001B[39m: \u001B[38;5;241m200\u001B[39m, \u001B[38;5;124m'\u001B[39m\u001B[38;5;124mly\u001B[39m\u001B[38;5;124m'\u001B[39m: \u001B[38;5;241m200\u001B[39m},\n\u001B[0;32m      8\u001B[0m                            arrangement\u001B[38;5;241m=\u001B[39m{\u001B[38;5;124m'\u001B[39m\u001B[38;5;124mtype\u001B[39m\u001B[38;5;124m'\u001B[39m:\u001B[38;5;124m'\u001B[39m\u001B[38;5;124mrectangular\u001B[39m\u001B[38;5;124m'\u001B[39m, \u001B[38;5;124m'\u001B[39m\u001B[38;5;124moptimization\u001B[39m\u001B[38;5;124m'\u001B[39m: \u001B[38;5;28;01mFalse\u001B[39;00m,\n\u001B[0;32m      9\u001B[0m                                         \u001B[38;5;124m'\u001B[39m\u001B[38;5;124mdist\u001B[39m\u001B[38;5;124m'\u001B[39m:d},\n\u001B[0;32m     10\u001B[0m                            scatterer_radius\u001B[38;5;241m=\u001B[39m\u001B[38;5;241m1.343\u001B[39m\n\u001B[0;32m     11\u001B[0m                            )\n\u001B[0;32m     12\u001B[0m rect\u001B[38;5;241m.\u001B[39mplot_device()\n",
      "\u001B[1;31mNameError\u001B[0m: name 'ScatteringStructure' is not defined"
     ]
    }
   ],
   "source": [
    "lam = 1.550 # microns\n",
    "d = lam/2\n",
    "d*= 10\n",
    "\n",
    "print(d)\n",
    "\n",
    "rect = ScatteringStructure(geometry={'type': 'box', 'lx': 200, 'ly': 200},\n",
    "                           arrangement={'type':'rectangular', 'optimization': False,\n",
    "                                        'dist':d},\n",
    "                           scatterer_radius=1.343\n",
    "                           )\n",
    "rect.plot_device()"
   ],
   "metadata": {
    "collapsed": false,
    "ExecuteTime": {
     "end_time": "2023-11-21T16:50:54.643543700Z",
     "start_time": "2023-11-21T16:50:54.159154700Z"
    }
   },
   "id": "475511b2fa77dc1c"
  },
  {
   "cell_type": "code",
   "execution_count": 3,
   "outputs": [
    {
     "name": "stdout",
     "output_type": "stream",
     "text": [
      "Distribution saved to devices_files/rectangular.txt\n"
     ]
    }
   ],
   "source": [
    "rect.save_device(filepath=\"devices_files/rectangular.txt\")"
   ],
   "metadata": {
    "collapsed": false,
    "ExecuteTime": {
     "end_time": "2023-11-17T14:08:58.533542100Z",
     "start_time": "2023-11-17T14:08:58.503665600Z"
    }
   },
   "id": "56d2d9197ab6e0c5"
  },
  {
   "cell_type": "code",
   "execution_count": null,
   "outputs": [],
   "source": [],
   "metadata": {
    "collapsed": false
   },
   "id": "5ef7e44849216293"
  }
 ],
 "metadata": {
  "kernelspec": {
   "display_name": "Python 3",
   "language": "python",
   "name": "python3"
  },
  "language_info": {
   "codemirror_mode": {
    "name": "ipython",
    "version": 2
   },
   "file_extension": ".py",
   "mimetype": "text/x-python",
   "name": "python",
   "nbconvert_exporter": "python",
   "pygments_lexer": "ipython2",
   "version": "2.7.6"
  }
 },
 "nbformat": 4,
 "nbformat_minor": 5
}
