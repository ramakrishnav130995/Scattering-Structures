{
 "cells": [
  {
   "cell_type": "code",
   "execution_count": 9,
   "id": "initial_id",
   "metadata": {
    "collapsed": true,
    "ExecuteTime": {
     "end_time": "2023-11-17T14:09:04.727770600Z",
     "start_time": "2023-11-17T14:09:04.722784900Z"
    }
   },
   "outputs": [],
   "source": [
    "import build_FDTD"
   ]
  },
  {
   "cell_type": "markdown",
   "source": [
    "Build FDTD with rectangular distribution"
   ],
   "metadata": {
    "collapsed": false
   },
   "id": "75c630905320d723"
  },
  {
   "cell_type": "code",
   "execution_count": 10,
   "outputs": [
    {
     "name": "stdout",
     "output_type": "stream",
     "text": [
      "Distribution loaded from devices_files/rectangular.txt\n"
     ]
    }
   ],
   "source": [
    "build_FDTD.build_FDTD(distribution_file=\"devices_files/rectangular.txt\", lumerical_name=\"lumerical_files/single_gaussian_rectangular.fsp\", injection_angle=-45)"
   ],
   "metadata": {
    "collapsed": false,
    "ExecuteTime": {
     "end_time": "2023-11-17T14:21:05.523699400Z",
     "start_time": "2023-11-17T14:09:05.854142200Z"
    }
   },
   "id": "5e4e7f632afc7318"
  },
  {
   "cell_type": "code",
   "execution_count": null,
   "outputs": [],
   "source": [],
   "metadata": {
    "collapsed": false
   },
   "id": "dbe0bc5abe87debd"
  }
 ],
 "metadata": {
  "kernelspec": {
   "display_name": "Python 3",
   "language": "python",
   "name": "python3"
  },
  "language_info": {
   "codemirror_mode": {
    "name": "ipython",
    "version": 2
   },
   "file_extension": ".py",
   "mimetype": "text/x-python",
   "name": "python",
   "nbconvert_exporter": "python",
   "pygments_lexer": "ipython2",
   "version": "2.7.6"
  }
 },
 "nbformat": 4,
 "nbformat_minor": 5
}
