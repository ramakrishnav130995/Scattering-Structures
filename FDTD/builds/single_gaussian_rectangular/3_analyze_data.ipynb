{
 "cells": [
  {
   "cell_type": "code",
   "execution_count": 1,
   "id": "initial_id",
   "metadata": {
    "collapsed": true,
    "ExecuteTime": {
     "end_time": "2023-11-24T11:17:17.274155200Z",
     "start_time": "2023-11-24T11:17:13.340468600Z"
    }
   },
   "outputs": [
    {
     "name": "stderr",
     "output_type": "stream",
     "text": [
      "C:\\Program Files\\Lumerical\\v232\\api\\python\\lumapi.py:882: SyntaxWarning: invalid escape sequence '\\s'\n",
      "  message = re.sub('^(Error:)\\s(prompt line)\\s[0-9]+:', '', str(rvals[2])).strip()\n"
     ]
    },
    {
     "ename": "AttributeError",
     "evalue": "module 'lumapi' has no attribute 'load'",
     "output_type": "error",
     "traceback": [
      "\u001B[1;31m---------------------------------------------------------------------------\u001B[0m",
      "\u001B[1;31mAttributeError\u001B[0m                            Traceback (most recent call last)",
      "Cell \u001B[1;32mIn[1], line 29\u001B[0m\n\u001B[0;32m     27\u001B[0m \u001B[38;5;66;03m# Load the module\u001B[39;00m\n\u001B[0;32m     28\u001B[0m lumapi \u001B[38;5;241m=\u001B[39m load_module_from_file(module_name, file_path)\n\u001B[1;32m---> 29\u001B[0m fdtd \u001B[38;5;241m=\u001B[39m \u001B[43mlumapi\u001B[49m\u001B[38;5;241;43m.\u001B[39;49m\u001B[43mload\u001B[49m(file_path)\n",
      "\u001B[1;31mAttributeError\u001B[0m: module 'lumapi' has no attribute 'load'"
     ]
    }
   ],
   "source": [
    "from read_hdf5_reader import *  # Importing a custom module\n",
    "from scattering_structure.scattering_structure import ScatteringStructure\n",
    "\n",
    "import importlib.util\n",
    "import os\n",
    "import numpy as np\n",
    "import matplotlib.pyplot as plt\n",
    "\n",
    "# Add the DLL directory\n",
    "os.add_dll_directory(\"C:\\\\Program Files\\\\Lumerical\\\\v232\\\\api\\\\python\")\n",
    "\n",
    "# Define the module name and file path\n",
    "module_name = \"lumapi\"\n",
    "# file_path = \"C:\\\\Program Files\\\\Lumerical\\\\v232\\\\api\\\\python\\\\lumapi.py\"\n",
    "file_path = \"C:\\\\Program Files\\\\Lumerical\\\\v232\\\\api\\\\python\\\\lumapi.py\"\n",
    "\n",
    "\n",
    "def load_module_from_file(module_name, file_path):\n",
    "    spec = importlib.util.spec_from_file_location(module_name, file_path)\n",
    "    module = importlib.util.module_from_spec(spec)\n",
    "    spec.loader.exec_module(module)\n",
    "    return module\n",
    "\n",
    "\n",
    "# Load the module\n",
    "lumapi = load_module_from_file(module_name, file_path)"
   ]
  },
  {
   "cell_type": "code",
   "execution_count": 5,
   "outputs": [
    {
     "ename": "LumApiError",
     "evalue": "'Exception [<Global>::appOpened]: Session not found'",
     "output_type": "error",
     "traceback": [
      "\u001B[1;31m---------------------------------------------------------------------------\u001B[0m",
      "\u001B[1;31mLumApiError\u001B[0m                               Traceback (most recent call last)",
      "Cell \u001B[1;32mIn[5], line 2\u001B[0m\n\u001B[0;32m      1\u001B[0m file_path \u001B[38;5;241m=\u001B[39m \u001B[38;5;124m\"\u001B[39m\u001B[38;5;124mlumerical_results/single_gaussian_rectangular.fsp\u001B[39m\u001B[38;5;124m\"\u001B[39m\n\u001B[1;32m----> 2\u001B[0m fdtd \u001B[38;5;241m=\u001B[39m \u001B[43mlumapi\u001B[49m\u001B[38;5;241;43m.\u001B[39;49m\u001B[43mFDTD\u001B[49m\u001B[43m(\u001B[49m\u001B[43mfilename\u001B[49m\u001B[38;5;241;43m=\u001B[39;49m\u001B[43mfile_path\u001B[49m\u001B[43m)\u001B[49m\n",
      "File \u001B[1;32mC:\\Program Files\\Lumerical\\v232\\api\\python\\lumapi.py:1528\u001B[0m, in \u001B[0;36mFDTD.__init__\u001B[1;34m(self, filename, key, hide, serverArgs, remoteArgs, **kwargs)\u001B[0m\n\u001B[0;32m   1527\u001B[0m \u001B[38;5;28;01mdef\u001B[39;00m \u001B[38;5;21m__init__\u001B[39m(\u001B[38;5;28mself\u001B[39m, filename\u001B[38;5;241m=\u001B[39m\u001B[38;5;28;01mNone\u001B[39;00m, key\u001B[38;5;241m=\u001B[39m\u001B[38;5;28;01mNone\u001B[39;00m, hide\u001B[38;5;241m=\u001B[39m\u001B[38;5;28;01mFalse\u001B[39;00m, serverArgs\u001B[38;5;241m=\u001B[39m{}, remoteArgs\u001B[38;5;241m=\u001B[39m{}, \u001B[38;5;241m*\u001B[39m\u001B[38;5;241m*\u001B[39mkwargs):\n\u001B[1;32m-> 1528\u001B[0m     \u001B[38;5;28;43msuper\u001B[39;49m\u001B[43m(\u001B[49m\u001B[43mFDTD\u001B[49m\u001B[43m,\u001B[49m\u001B[43m \u001B[49m\u001B[38;5;28;43mself\u001B[39;49m\u001B[43m)\u001B[49m\u001B[38;5;241;43m.\u001B[39;49m\u001B[38;5;21;43m__init__\u001B[39;49m\u001B[43m(\u001B[49m\u001B[38;5;124;43m'\u001B[39;49m\u001B[38;5;124;43mfdtd\u001B[39;49m\u001B[38;5;124;43m'\u001B[39;49m\u001B[43m,\u001B[49m\u001B[43m \u001B[49m\u001B[43mfilename\u001B[49m\u001B[43m,\u001B[49m\u001B[43m \u001B[49m\u001B[43mkey\u001B[49m\u001B[43m,\u001B[49m\u001B[43m \u001B[49m\u001B[43mhide\u001B[49m\u001B[43m,\u001B[49m\u001B[43m \u001B[49m\u001B[43mserverArgs\u001B[49m\u001B[43m,\u001B[49m\u001B[43m \u001B[49m\u001B[43mremoteArgs\u001B[49m\u001B[43m,\u001B[49m\u001B[43m \u001B[49m\u001B[38;5;241;43m*\u001B[39;49m\u001B[38;5;241;43m*\u001B[39;49m\u001B[43mkwargs\u001B[49m\u001B[43m)\u001B[49m\n",
      "File \u001B[1;32mC:\\Program Files\\Lumerical\\v232\\api\\python\\lumapi.py:1183\u001B[0m, in \u001B[0;36mLumerical.__init__\u001B[1;34m(self, product, filename, key, hide, serverArgs, remoteArgs, **kwargs)\u001B[0m\n\u001B[0;32m   1181\u001B[0m \u001B[38;5;28mself\u001B[39m\u001B[38;5;241m.\u001B[39mkeepCADOpened \u001B[38;5;241m=\u001B[39m \u001B[38;5;28mself\u001B[39m\u001B[38;5;241m.\u001B[39m__extractKeepCADOpenedArgument__(serverArgs)\n\u001B[0;32m   1182\u001B[0m iapi \u001B[38;5;241m=\u001B[39m initLib(remoteArgs)\n\u001B[1;32m-> 1183\u001B[0m handle \u001B[38;5;241m=\u001B[39m \u001B[38;5;28;43mself\u001B[39;49m\u001B[38;5;241;43m.\u001B[39;49m\u001B[43m__open__\u001B[49m\u001B[43m(\u001B[49m\u001B[43miapi\u001B[49m\u001B[43m,\u001B[49m\u001B[43m \u001B[49m\u001B[43mproduct\u001B[49m\u001B[43m,\u001B[49m\u001B[43m \u001B[49m\u001B[43mkey\u001B[49m\u001B[43m,\u001B[49m\u001B[43m \u001B[49m\u001B[43mhide\u001B[49m\u001B[43m,\u001B[49m\u001B[43m \u001B[49m\u001B[43mserverArgs\u001B[49m\u001B[43m,\u001B[49m\u001B[43m \u001B[49m\u001B[43mremoteArgs\u001B[49m\u001B[43m)\u001B[49m\n\u001B[0;32m   1184\u001B[0m \u001B[38;5;28mself\u001B[39m\u001B[38;5;241m.\u001B[39mhandle \u001B[38;5;241m=\u001B[39m LumApiSession(iapi, handle)\n\u001B[0;32m   1186\u001B[0m \u001B[38;5;28mself\u001B[39m\u001B[38;5;241m.\u001B[39msyncUserFunctionsFlag \u001B[38;5;241m=\u001B[39m \u001B[38;5;28;01mFalse\u001B[39;00m\n",
      "File \u001B[1;32mC:\\Program Files\\Lumerical\\v232\\api\\python\\lumapi.py:1402\u001B[0m, in \u001B[0;36mLumerical.__open__\u001B[1;34m(self, iapi, product, key, hide, serverArgs, remoteArgs)\u001B[0m\n\u001B[0;32m   1400\u001B[0m         error \u001B[38;5;241m=\u001B[39m iapi\u001B[38;5;241m.\u001B[39mappGetLastError()\n\u001B[0;32m   1401\u001B[0m         error \u001B[38;5;241m=\u001B[39m error\u001B[38;5;241m.\u001B[39mcontents\u001B[38;5;241m.\u001B[39mstr[:error\u001B[38;5;241m.\u001B[39mcontents\u001B[38;5;241m.\u001B[39mlen]\u001B[38;5;241m.\u001B[39mdecode(\u001B[38;5;124m'\u001B[39m\u001B[38;5;124mutf-8\u001B[39m\u001B[38;5;124m'\u001B[39m)\n\u001B[1;32m-> 1402\u001B[0m         \u001B[38;5;28;01mraise\u001B[39;00m LumApiError(error)\n\u001B[0;32m   1404\u001B[0m \u001B[38;5;28;01mreturn\u001B[39;00m h\n",
      "\u001B[1;31mLumApiError\u001B[0m: 'Exception [<Global>::appOpened]: Session not found'"
     ]
    }
   ],
   "source": [
    "file_path = \"lumerical_results/single_gaussian_rectangular.fsp\"\n",
    "fdtd = lumapi.FDTD(filename=file_path)"
   ],
   "metadata": {
    "collapsed": false,
    "ExecuteTime": {
     "end_time": "2023-11-24T11:27:43.008131700Z",
     "start_time": "2023-11-24T11:26:42.431896200Z"
    }
   },
   "id": "e9a3c9e30bba2fc9"
  },
  {
   "cell_type": "code",
   "execution_count": null,
   "outputs": [],
   "source": [
    "for i in [1, 2 ,3 ,4 ]:\n",
    "    print(fdtd.getdata(str(i), \"f\"))\n",
    "    f = fdtd.getdata(str(i), \"f\")\n",
    "    T = fdtd.transmission(str(i))\n",
    "    print(T)"
   ],
   "metadata": {
    "collapsed": false
   },
   "id": "cfba13d54adf3da4"
  },
  {
   "cell_type": "code",
   "execution_count": null,
   "outputs": [],
   "source": [
    "# first get the transmission for each of the four edge monitors positioned at the four edges of the waveguide\n",
    "for i in [1, 2 ,3 ,4 ]:\n",
    "    print(fdtd.getdata(str(i), \"f\"))\n",
    "    f = fdtd.getdata(str(i), \"f\")\n",
    "    T = fdtd.transmission(str(i))"
   ],
   "metadata": {
    "collapsed": false
   },
   "id": "6b10fcbe690f216f"
  }
 ],
 "metadata": {
  "kernelspec": {
   "display_name": "Python 3",
   "language": "python",
   "name": "python3"
  },
  "language_info": {
   "codemirror_mode": {
    "name": "ipython",
    "version": 2
   },
   "file_extension": ".py",
   "mimetype": "text/x-python",
   "name": "python",
   "nbconvert_exporter": "python",
   "pygments_lexer": "ipython2",
   "version": "2.7.6"
  }
 },
 "nbformat": 4,
 "nbformat_minor": 5
}
