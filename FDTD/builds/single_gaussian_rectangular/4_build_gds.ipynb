{
 "cells": [
  {
   "cell_type": "code",
   "execution_count": 11,
   "outputs": [
    {
     "ename": "ModuleNotFoundError",
     "evalue": "No module named 'shapely.topology'",
     "output_type": "error",
     "traceback": [
      "\u001B[1;31m---------------------------------------------------------------------------\u001B[0m",
      "\u001B[1;31mModuleNotFoundError\u001B[0m                       Traceback (most recent call last)",
      "Cell \u001B[1;32mIn[11], line 3\u001B[0m\n\u001B[0;32m      1\u001B[0m \u001B[38;5;28;01mfrom\u001B[39;00m \u001B[38;5;21;01mscattering_structure\u001B[39;00m\u001B[38;5;21;01m.\u001B[39;00m\u001B[38;5;21;01mscattering_structure\u001B[39;00m \u001B[38;5;28;01mimport\u001B[39;00m ScatteringStructure\n\u001B[0;32m      2\u001B[0m \u001B[38;5;28;01mimport\u001B[39;00m \u001B[38;5;21;01mshapely\u001B[39;00m\u001B[38;5;21;01m.\u001B[39;00m\u001B[38;5;21;01mgeometry\u001B[39;00m\n\u001B[1;32m----> 3\u001B[0m \u001B[38;5;28;01mfrom\u001B[39;00m \u001B[38;5;21;01mgdshelpers\u001B[39;00m\u001B[38;5;21;01m.\u001B[39;00m\u001B[38;5;21;01mgeometry\u001B[39;00m\u001B[38;5;21;01m.\u001B[39;00m\u001B[38;5;21;01mchip\u001B[39;00m \u001B[38;5;28;01mimport\u001B[39;00m Cell\n\u001B[0;32m      4\u001B[0m \u001B[38;5;28;01mfrom\u001B[39;00m \u001B[38;5;21;01mshapely\u001B[39;00m\u001B[38;5;21;01m.\u001B[39;00m\u001B[38;5;21;01mgeometry\u001B[39;00m \u001B[38;5;28;01mimport\u001B[39;00m Point\n",
      "File \u001B[1;32m~\\Documents\\Masterarbeit\\Scattering Structures\\venv3.11\\Lib\\site-packages\\gdshelpers\\geometry\\__init__.py:1\u001B[0m\n\u001B[1;32m----> 1\u001B[0m \u001B[38;5;28;01mfrom\u001B[39;00m \u001B[38;5;21;01m.\u001B[39;00m\u001B[38;5;21;01mshapely_adapter\u001B[39;00m \u001B[38;5;28;01mimport\u001B[39;00m convert_to_gdscad, geometric_union, cut_shapely_object, fracture\n\u001B[0;32m      3\u001B[0m __all__ \u001B[38;5;241m=\u001B[39m [\u001B[38;5;124m'\u001B[39m\u001B[38;5;124mconvert_to_gdscad\u001B[39m\u001B[38;5;124m'\u001B[39m, \u001B[38;5;124m'\u001B[39m\u001B[38;5;124mgeometric_union\u001B[39m\u001B[38;5;124m'\u001B[39m, \u001B[38;5;124m'\u001B[39m\u001B[38;5;124mcut_shapely_object\u001B[39m\u001B[38;5;124m'\u001B[39m, \u001B[38;5;124m'\u001B[39m\u001B[38;5;124mfracture\u001B[39m\u001B[38;5;124m'\u001B[39m]\n",
      "File \u001B[1;32m~\\Documents\\Masterarbeit\\Scattering Structures\\venv3.11\\Lib\\site-packages\\gdshelpers\\geometry\\shapely_adapter.py:5\u001B[0m\n\u001B[0;32m      2\u001B[0m \u001B[38;5;28;01mimport\u001B[39;00m \u001B[38;5;21;01mitertools\u001B[39;00m\n\u001B[0;32m      4\u001B[0m \u001B[38;5;28;01mimport\u001B[39;00m \u001B[38;5;21;01mnumpy\u001B[39;00m \u001B[38;5;28;01mas\u001B[39;00m \u001B[38;5;21;01mnp\u001B[39;00m\n\u001B[1;32m----> 5\u001B[0m \u001B[38;5;28;01mimport\u001B[39;00m \u001B[38;5;21;01mshapely\u001B[39;00m\u001B[38;5;21;01m.\u001B[39;00m\u001B[38;5;21;01mtopology\u001B[39;00m\n\u001B[0;32m      6\u001B[0m \u001B[38;5;28;01mimport\u001B[39;00m \u001B[38;5;21;01mshapely\u001B[39;00m\u001B[38;5;21;01m.\u001B[39;00m\u001B[38;5;21;01mops\u001B[39;00m\n\u001B[0;32m      7\u001B[0m \u001B[38;5;28;01mimport\u001B[39;00m \u001B[38;5;21;01mshapely\u001B[39;00m\u001B[38;5;21;01m.\u001B[39;00m\u001B[38;5;21;01mgeometry\u001B[39;00m\n",
      "\u001B[1;31mModuleNotFoundError\u001B[0m: No module named 'shapely.topology'"
     ]
    }
   ],
   "source": [
    "from scattering_structure.scattering_structure import ScatteringStructure\n",
    "import shapely.geometry\n",
    "from gdshelpers.geometry.chip import Cell\n",
    "from shapely.geometry import Point\n"
   ],
   "metadata": {
    "collapsed": false,
    "ExecuteTime": {
     "end_time": "2023-11-24T16:04:34.014900100Z",
     "start_time": "2023-11-24T16:04:33.931647800Z"
    }
   },
   "id": "196578cf3967b13e"
  },
  {
   "cell_type": "code",
   "execution_count": 2,
   "id": "initial_id",
   "metadata": {
    "collapsed": true,
    "ExecuteTime": {
     "end_time": "2023-11-24T15:28:14.667252200Z",
     "start_time": "2023-11-24T15:28:14.656394100Z"
    }
   },
   "outputs": [
    {
     "name": "stdout",
     "output_type": "stream",
     "text": [
      "Distribution loaded from devices_files/rectangular.txt\n"
     ]
    }
   ],
   "source": [
    "distribution_file = 'devices_files/rectangular.txt'\n",
    "\n",
    "# get the distribution\n",
    "load_pois = ScatteringStructure(geometry={'type': 'load_from_file'},\n",
    "                                arrangement={'type': 'load_from_file',\n",
    "                                             'filepath': distribution_file},\n",
    "                                scatterer_radius=1.343\n",
    "                                )\n",
    "point_distribution = load_pois.get_points()"
   ]
  },
  {
   "cell_type": "code",
   "execution_count": 4,
   "outputs": [
    {
     "ename": "NameError",
     "evalue": "name 'Cell' is not defined",
     "output_type": "error",
     "traceback": [
      "\u001B[1;31m---------------------------------------------------------------------------\u001B[0m",
      "\u001B[1;31mNameError\u001B[0m                                 Traceback (most recent call last)",
      "Cell \u001B[1;32mIn[4], line 3\u001B[0m\n\u001B[0;32m      1\u001B[0m outer_radius \u001B[38;5;241m=\u001B[39m \u001B[38;5;241m1.343\u001B[39m\n\u001B[0;32m      2\u001B[0m inner_radius \u001B[38;5;241m=\u001B[39m \u001B[38;5;241m0.75\u001B[39m \u001B[38;5;66;03m# TODO update this\u001B[39;00m\n\u001B[1;32m----> 3\u001B[0m cell \u001B[38;5;241m=\u001B[39m \u001B[43mCell\u001B[49m(\u001B[38;5;124m'\u001B[39m\u001B[38;5;124mrectangular device\u001B[39m\u001B[38;5;124m'\u001B[39m)\n\u001B[0;32m      4\u001B[0m \u001B[38;5;28;01mfor\u001B[39;00m p \u001B[38;5;129;01min\u001B[39;00m point_distribution:\n\u001B[0;32m      5\u001B[0m     r2 \u001B[38;5;241m=\u001B[39m Point(p)\u001B[38;5;241m.\u001B[39minflated(outer_radius)\n",
      "\u001B[1;31mNameError\u001B[0m: name 'Cell' is not defined"
     ]
    }
   ],
   "source": [
    "outer_radius = 1.343\n",
    "inner_radius = 0.75 # TODO update this\n",
    "cell = Cell('rectangular device')\n",
    "for p in point_distribution:\n",
    "    r2 = Point(p).inflated(outer_radius)\n",
    "    r1 = Point(p).inflated(inner_radius)\n",
    "    ring = r2.difference(r1)\n",
    "    cell.add_to_layer(1, ring)\n",
    "cell.save()"
   ],
   "metadata": {
    "collapsed": false,
    "ExecuteTime": {
     "end_time": "2023-11-24T15:46:15.720570Z",
     "start_time": "2023-11-24T15:46:15.136172100Z"
    }
   },
   "id": "2542803c538abef4"
  },
  {
   "cell_type": "code",
   "execution_count": null,
   "outputs": [],
   "source": [],
   "metadata": {
    "collapsed": false
   },
   "id": "dd7102014ff78064"
  }
 ],
 "metadata": {
  "kernelspec": {
   "display_name": "Python 3",
   "language": "python",
   "name": "python3"
  },
  "language_info": {
   "codemirror_mode": {
    "name": "ipython",
    "version": 2
   },
   "file_extension": ".py",
   "mimetype": "text/x-python",
   "name": "python",
   "nbconvert_exporter": "python",
   "pygments_lexer": "ipython2",
   "version": "2.7.6"
  }
 },
 "nbformat": 4,
 "nbformat_minor": 5
}
